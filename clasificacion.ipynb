{
 "cells": [
  {
   "cell_type": "markdown",
   "metadata": {},
   "source": [
    "# CNN_Clasificador"
   ]
  },
  {
   "cell_type": "markdown",
   "metadata": {},
   "source": [
    "### IMPORTAR LIBRERÍAS"
   ]
  },
  {
   "cell_type": "code",
   "execution_count": 30,
   "metadata": {},
   "outputs": [],
   "source": [
    "## AutoEncoder v1\n",
    "import os\n",
    "import os.path\n",
    "import numpy as np\n",
    "import pickle\n",
    "import tensorflow as tf\n",
    "#print(tf.__version__)==> VERSION DE TENSORFLOW  1.10\n",
    "import matplotlib\n",
    "\n",
    "from tensorflow import keras\n",
    "from tensorflow.keras import Model, Sequential\n",
    "from tensorflow.keras.layers import Input, Conv2D, ReLU, BatchNormalization, MaxPooling2D\n",
    "from tensorflow.keras.layers import Flatten, Dense, Reshape, Conv2DTranspose, Dropout\n",
    "from tensorflow.keras.layers import Activation, Lambda, LSTM\n",
    "from tensorflow.keras import backend as K\n",
    "from tensorflow.keras.optimizers import Adam, SGD\n",
    "from tensorflow.keras.losses import mean_squared_error # MeanSquaredError\n",
    "from tensorflow.keras import metrics\n",
    "from matplotlib import pyplot as plt\n",
    "import pickle   #Lo tuve que agregar nuevamente porque me decía que no estaba definido cuando guarda los datos\n",
    "import skimage   #la version que se instla en conda es la 0.14.0 ==> hay que ver nombre de la funcion para metricas\n",
    "from skimage import measure\n",
    "from skimage import data, io,color\n",
    "import pydot\n",
    "from skimage.io import imread\n",
    "from skimage.io import imread_collection\n",
    "import skimage.color\n",
    "from sklearn import utils\n",
    "from IPython.display import Image\n",
    "from sklearn.metrics import confusion_matrix"
   ]
  },
  {
   "cell_type": "markdown",
   "metadata": {},
   "source": [
    "### DATOS\n",
    "\n"
   ]
  },
  {
   "cell_type": "markdown",
   "metadata": {},
   "source": [
    "#### CARGA DE LOS DATOS :"
   ]
  },
  {
   "cell_type": "code",
   "execution_count": 20,
   "metadata": {},
   "outputs": [],
   "source": [
    "################################ DATOS 0 #######################################\n",
    "dirName = '/home/lucas/Escritorio/proyecto_imagenes_CNN/Sign_Language_Digits_Dataset/Dataset/0/*.JPG'\n",
    "collection = imread_collection(dirName)                     #Creo una colection con todas las imagenes que hay en la carpeta\n",
    "x = skimage.io.concatenate_images(collection)               #Convierte la coleccion en numpy array concatenado.\n",
    "X_0 = x[:,:,:,0]*0.2989 + x[:,:,:,1]*0.587 + x[:,:,:,2]*0.114 # Convierto el array en RGB a escala de grises. OJO!!! Los valores obtenidos son en float\n",
    "X_0 = X_0.astype(np.uint8)                                     # Se convierten los valores float en uint8 - Sino da una imagen en verde\n",
    "Y_0 = np.ones(len(x[:,0,0,0]))*0\n",
    "Y_0 = Y_0[:,np.newaxis]\n",
    "\n",
    "############################### DATOS 1 ########################################\n",
    "dirName = '/home/lucas/Escritorio/proyecto_imagenes_CNN/Sign_Language_Digits_Dataset/Dataset/1/*.JPG'\n",
    "collection = imread_collection(dirName)                         #Creo una colection con todas las imagenes que hay en la carpeta\n",
    "x = skimage.io.concatenate_images(collection)                   #Convierte la coleccion en numpy array concatenado.\n",
    "X_1 = x[:,:,:,0]*0.2989 + x[:,:,:,1]*0.587 + x[:,:,:,2]*0.114   # Convierto el array en RGB a escala de grises. OJO!!! Los valores obtenidos son en float\n",
    "X_1 = X_1.astype(np.uint8)                                      # Se convierten los valores float en uint8 - Sino da una imagen en verde\n",
    "Y_1 = np.ones(len(x[:,0,0,0]))*1\n",
    "Y_1 = Y_1[:,np.newaxis]\n",
    "\n",
    "############################### DATOS 2 ########################################\n",
    "dirName = '/home/lucas/Escritorio/proyecto_imagenes_CNN/Sign_Language_Digits_Dataset/Dataset/2/*.JPG'\n",
    "collection = imread_collection(dirName)                         #Creo una colection con todas las imagenes que hay en la carpeta\n",
    "x = skimage.io.concatenate_images(collection)                   #Convierte la coleccion en numpy array concatenado.\n",
    "X_2 = x[:,:,:,0]*0.2989 + x[:,:,:,1]*0.587 + x[:,:,:,2]*0.114   # Convierto el array en RGB a escala de grises. OJO!!! Los valores obtenidos son en float\n",
    "X_2 = X_2.astype(np.uint8)                                      # Se convierten los valores float en uint8 - Sino da una imagen en verde\n",
    "Y_2 = np.ones(len(x[:,0,0,0]))*2\n",
    "Y_2 = Y_2[:,np.newaxis]\n",
    "\n",
    "############################### DATOS 3 ########################################\n",
    "dirName = '/home/lucas/Escritorio/proyecto_imagenes_CNN/Sign_Language_Digits_Dataset/Dataset/3/*.JPG'\n",
    "collection = imread_collection(dirName)                         #Creo una colection con todas las imagenes que hay en la carpeta\n",
    "x = skimage.io.concatenate_images(collection)                   #Convierte la coleccion en numpy array concatenado.\n",
    "X_3 = x[:,:,:,0]*0.2989 + x[:,:,:,1]*0.587 + x[:,:,:,2]*0.114   # Convierto el array en RGB a escala de grises. OJO!!! Los valores obtenidos son en float\n",
    "X_3 = X_3.astype(np.uint8)                                      # Se convierten los valores float en uint8 - Sino da una imagen en verde\n",
    "Y_3 = np.ones(len(x[:,0,0,0]))*3\n",
    "Y_3 = Y_3[:,np.newaxis]\n",
    "\n",
    "############################### DATOS 4 ########################################\n",
    "dirName = '/home/lucas/Escritorio/proyecto_imagenes_CNN/Sign_Language_Digits_Dataset/Dataset/4/*.JPG'\n",
    "collection = imread_collection(dirName)                         #Creo una colection con todas las imagenes que hay en la carpeta\n",
    "x = skimage.io.concatenate_images(collection)                   #Convierte la coleccion en numpy array concatenado.\n",
    "X_4 = x[:,:,:,0]*0.2989 + x[:,:,:,1]*0.587 + x[:,:,:,2]*0.114   # Convierto el array en RGB a escala de grises. OJO!!! Los valores obtenidos son en float\n",
    "X_4 = X_4.astype(np.uint8)                                      # Se convierten los valores float en uint8 - Sino da una imagen en verde\n",
    "Y_4 = np.ones(len(x[:,0,0,0]))*4\n",
    "Y_4 = Y_4[:,np.newaxis]\n",
    "\n",
    "############################### DATOS 5 ########################################\n",
    "dirName = '/home/lucas/Escritorio/proyecto_imagenes_CNN/Sign_Language_Digits_Dataset/Dataset/5/*.JPG'\n",
    "collection = imread_collection(dirName)                         #Creo una colection con todas las imagenes que hay en la carpeta\n",
    "x = skimage.io.concatenate_images(collection)                   #Convierte la coleccion en numpy array concatenado.\n",
    "X_5 = x[:,:,:,0]*0.2989 + x[:,:,:,1]*0.587 + x[:,:,:,2]*0.114   # Convierto el array en RGB a escala de grises. OJO!!! Los valores obtenidos son en float\n",
    "X_5 = X_5.astype(np.uint8)                                      # Se convierten los valores float en uint8 - Sino da una imagen en verde\n",
    "Y_5 = np.ones(len(x[:,0,0,0]))*5\n",
    "Y_5 = Y_5[:,np.newaxis]\n",
    "\n",
    "############################### DATOS 6 ########################################\n",
    "dirName = '/home/lucas/Escritorio/proyecto_imagenes_CNN/Sign_Language_Digits_Dataset/Dataset/6/*.JPG'\n",
    "collection = imread_collection(dirName)                         #Creo una colection con todas las imagenes que hay en la carpeta\n",
    "x = skimage.io.concatenate_images(collection)                   #Convierte la coleccion en numpy array concatenado.\n",
    "X_6 = x[:,:,:,0]*0.2989 + x[:,:,:,1]*0.587 + x[:,:,:,2]*0.114   # Convierto el array en RGB a escala de grises. OJO!!! Los valores obtenidos son en float\n",
    "X_6 = X_6.astype(np.uint8)                                      # Se convierten los valores float en uint8 - Sino da una imagen en verde\n",
    "Y_6 = np.ones(len(x[:,0,0,0]))*6\n",
    "Y_6 = Y_6[:,np.newaxis]\n",
    "\n",
    "############################### DATOS 7 ########################################\n",
    "dirName = '/home/lucas/Escritorio/proyecto_imagenes_CNN/Sign_Language_Digits_Dataset/Dataset/7/*.JPG'\n",
    "collection = imread_collection(dirName)                         #Creo una colection con todas las imagenes que hay en la carpeta\n",
    "x = skimage.io.concatenate_images(collection)                   #Convierte la coleccion en numpy array concatenado.\n",
    "X_7 = x[:,:,:,0]*0.2989 + x[:,:,:,1]*0.587 + x[:,:,:,2]*0.114   # Convierto el array en RGB a escala de grises. OJO!!! Los valores obtenidos son en float\n",
    "X_7 = X_7.astype(np.uint8)                                      # Se convierten los valores float en uint8 - Sino da una imagen en verde\n",
    "Y_7 = np.ones(len(x[:,0,0,0]))*7\n",
    "Y_7 = Y_7[:,np.newaxis]\n",
    "\n",
    "############################### DATOS 8 ########################################\n",
    "dirName = '/home/lucas/Escritorio/proyecto_imagenes_CNN/Sign_Language_Digits_Dataset/Dataset/8/*.JPG'\n",
    "collection = imread_collection(dirName)                         #Creo una colection con todas las imagenes que hay en la carpeta\n",
    "x = skimage.io.concatenate_images(collection)                   #Convierte la coleccion en numpy array concatenado.\n",
    "X_8 = x[:,:,:,0]*0.2989 + x[:,:,:,1]*0.587 + x[:,:,:,2]*0.114   # Convierto el array en RGB a escala de grises. OJO!!! Los valores obtenidos son en float\n",
    "X_8 = X_8.astype(np.uint8)                                      # Se convierten los valores float en uint8 - Sino da una imagen en verde\n",
    "Y_8 = np.ones(len(x[:,0,0,0]))*8\n",
    "Y_8 = Y_8[:,np.newaxis]\n",
    "\n",
    "############################### DATOS 9 ########################################\n",
    "dirName = '/home/lucas/Escritorio/proyecto_imagenes_CNN/Sign_Language_Digits_Dataset/Dataset/9/*.JPG'\n",
    "collection = imread_collection(dirName)                         #Creo una colection con todas las imagenes que hay en la carpeta\n",
    "x = skimage.io.concatenate_images(collection)                   #Convierte la coleccion en numpy array concatenado.\n",
    "X_9 = x[:,:,:,0]*0.2989 + x[:,:,:,1]*0.587 + x[:,:,:,2]*0.114   # Convierto el array en RGB a escala de grises. OJO!!! Los valores obtenidos son en float\n",
    "X_9 = X_9.astype(np.uint8)                                      # Se convierten los valores float en uint8 - Sino da una imagen en verde\n",
    "Y_9 = np.ones(len(x[:,0,0,0]))*9\n",
    "Y_9 = Y_9[:,np.newaxis]"
   ]
  },
  {
   "cell_type": "markdown",
   "metadata": {},
   "source": [
    "#### Concatenacion de las imagenes y etiquetas"
   ]
  },
  {
   "cell_type": "code",
   "execution_count": 21,
   "metadata": {},
   "outputs": [
    {
     "name": "stdout",
     "output_type": "stream",
     "text": [
      "(2059, 100, 100)\n",
      "(2059, 1)\n"
     ]
    }
   ],
   "source": [
    "Datos = np.vstack([X_0,X_1,X_2,X_3,X_4,X_5,X_6,X_7,X_8,X_9])\n",
    "etiquetas = np.vstack([Y_0,Y_1,Y_2,Y_3,Y_4,Y_5,Y_6,Y_7,Y_8,Y_9])\n",
    "print (np.shape(Datos))\n",
    "print (np.shape(etiquetas))"
   ]
  },
  {
   "cell_type": "markdown",
   "metadata": {},
   "source": [
    "#### Shuffle de datos y etiquetas\n"
   ]
  },
  {
   "cell_type": "code",
   "execution_count": 22,
   "metadata": {},
   "outputs": [
    {
     "name": "stdout",
     "output_type": "stream",
     "text": [
      "[0.]\n"
     ]
    },
    {
     "data": {
      "image/png": "[encoded data removed]",
      "text/plain": [
       "<Figure size 432x288 with 1 Axes>"
      ]
     },
     "metadata": {
      "needs_background": "light"
     },
     "output_type": "display_data"
    }
   ],
   "source": [
    "Datos,etiquetas = utils.shuffle(Datos,etiquetas)\n",
    "\n",
    "print (etiquetas[195])\n",
    "io.imshow(Datos[195,:])\n",
    "plt.show()"
   ]
  },
  {
   "cell_type": "markdown",
   "metadata": {},
   "source": [
    "#### DIVISIÓN DE LOS DATOS  en TRAIN y TEST. Normalizacion de los Datos entre 0 y 1\n"
   ]
  },
  {
   "cell_type": "code",
   "execution_count": 23,
   "metadata": {},
   "outputs": [
    {
     "name": "stdout",
     "output_type": "stream",
     "text": [
      "(204, 100, 100)\n",
      "(1853, 100, 100)\n",
      "(204, 1)\n",
      "(1853, 1)\n"
     ]
    },
    {
     "data": {
      "image/png": "[encoded data removed]",
      "text/plain": [
       "<Figure size 432x288 with 1 Axes>"
      ]
     },
     "metadata": {
      "needs_background": "light"
     },
     "output_type": "display_data"
    },
    {
     "name": "stdout",
     "output_type": "stream",
     "text": [
      "[6.]\n"
     ]
    }
   ],
   "source": [
    "tamaño_test=0.1 #representa la proporción del conjunto de datos que se incluirá en la división de prueba.\n",
    "tamaño_train=0.9 #representa la proporción del conjunto de datos que se incluirá en la división de prueba.\n",
    "\n",
    "p_test=int(len(Datos[:,1,1])*tamaño_test)\n",
    "p_train=int(len(Datos[:,1,1])*tamaño_train)\n",
    "\n",
    "x_test=Datos[0:p_test-1,:,:]/255\n",
    "x_train=Datos[p_test:p_train+p_test,:,:]/255\n",
    "\n",
    "Y_test=etiquetas[0:p_test-1,:]\n",
    "Y_train=etiquetas[p_test:p_train+p_test,:]\n",
    "\n",
    "print(np.shape(x_test))\n",
    "print(np.shape(x_train))\n",
    "print(np.shape(Y_test))\n",
    "print(np.shape(Y_train))\n",
    "\n",
    "io.imshow(x_train[42,:])\n",
    "plt.show()\n",
    "print (Y_train[42])\n"
   ]
  },
  {
   "cell_type": "code",
   "execution_count": 24,
   "metadata": {},
   "outputs": [
    {
     "name": "stdout",
     "output_type": "stream",
     "text": [
      "(204, 10)\n",
      "[0. 0. 0. 0. 1. 0. 0. 0. 0. 0.]\n"
     ]
    },
    {
     "data": {
      "image/png": "[encoded data removed]",
      "text/plain": [
       "<Figure size 432x288 with 1 Axes>"
      ]
     },
     "metadata": {
      "needs_background": "light"
     },
     "output_type": "display_data"
    }
   ],
   "source": [
    "Y_train = tf.keras.utils.to_categorical(Y_train, 10)\n",
    "Y_test = tf.keras.utils.to_categorical(Y_test, 10)\n",
    "print(np.shape(Y_test))\n",
    "print(Y_test[4,:])\n",
    "io.imshow(x_test[4,:])\n",
    "plt.show()"
   ]
  },
  {
   "cell_type": "markdown",
   "metadata": {},
   "source": [
    "#### ADECUACIÓN DE LOS DATOS PARA EL ENTRENAMIENTO"
   ]
  },
  {
   "cell_type": "code",
   "execution_count": 25,
   "metadata": {},
   "outputs": [
    {
     "name": "stderr",
     "output_type": "stream",
     "text": [
      "2022-06-08 16:16:53.713481: I tensorflow/core/platform/cpu_feature_guard.cc:142] This TensorFlow binary is optimized with oneAPI Deep Neural Network Library (oneDNN)to use the following CPU instructions in performance-critical operations:  SSE4.1 SSE4.2 AVX AVX2 FMA\n",
      "To enable them in other operations, rebuild TensorFlow with the appropriate compiler flags.\n",
      "2022-06-08 16:16:53.742702: I tensorflow/core/platform/profile_utils/cpu_utils.cc:104] CPU Frequency: 1896415000 Hz\n",
      "2022-06-08 16:16:53.743370: I tensorflow/compiler/xla/service/service.cc:168] XLA service 0x562f81e813d0 initialized for platform Host (this does not guarantee that XLA will be used). Devices:\n",
      "2022-06-08 16:16:53.743386: I tensorflow/compiler/xla/service/service.cc:176]   StreamExecutor device (0): Host, Default Version\n",
      "2022-06-08 16:16:53.749599: W tensorflow/core/framework/cpu_allocator_impl.cc:81] Allocation of 148240000 exceeds 10% of free system memory.\n"
     ]
    },
    {
     "name": "stdout",
     "output_type": "stream",
     "text": [
      "(1853, 100, 100, 1)\n",
      "(204, 100, 100, 1)\n"
     ]
    }
   ],
   "source": [
    "Datos_tensor=tf.expand_dims(x_test, axis=3) #Esta función me devuelve un tensor, asique se debe pasar a array.\n",
    "X_test = Datos_tensor.numpy()\n",
    "\n",
    "Datos_tensor2=tf.expand_dims(x_train, axis=3) #Esta función me devuelve un tensor, asique se debe pasar a array.\n",
    "X_train = Datos_tensor2.numpy()\n",
    "\n",
    "print(np.shape(X_train))\n",
    "print(np.shape(X_test))\n",
    "\n"
   ]
  },
  {
   "cell_type": "markdown",
   "metadata": {},
   "source": [
    "## CLASIFICADOR_CNN\n"
   ]
  },
  {
   "cell_type": "markdown",
   "metadata": {},
   "source": [
    "### ARQUITECTURA DE LA CNN:  "
   ]
  },
  {
   "cell_type": "code",
   "execution_count": 35,
   "metadata": {},
   "outputs": [
    {
     "name": "stdout",
     "output_type": "stream",
     "text": [
      "Model: \"sequential_2\"\n",
      "_________________________________________________________________\n",
      "Layer (type)                 Output Shape              Param #   \n",
      "=================================================================\n",
      "conv2d_8 (Conv2D)            (None, 98, 98, 32)        320       \n",
      "_________________________________________________________________\n",
      "conv2d_9 (Conv2D)            (None, 96, 96, 32)        9248      \n",
      "_________________________________________________________________\n",
      "max_pooling2d_4 (MaxPooling2 (None, 48, 48, 32)        0         \n",
      "_________________________________________________________________\n",
      "dropout_6 (Dropout)          (None, 48, 48, 32)        0         \n",
      "_________________________________________________________________\n",
      "conv2d_10 (Conv2D)           (None, 46, 46, 32)        9248      \n",
      "_________________________________________________________________\n",
      "conv2d_11 (Conv2D)           (None, 44, 44, 32)        9248      \n",
      "_________________________________________________________________\n",
      "max_pooling2d_5 (MaxPooling2 (None, 22, 22, 32)        0         \n",
      "_________________________________________________________________\n",
      "dropout_7 (Dropout)          (None, 22, 22, 32)        0         \n",
      "_________________________________________________________________\n",
      "flatten_2 (Flatten)          (None, 15488)             0         \n",
      "_________________________________________________________________\n",
      "dense_4 (Dense)              (None, 256)               3965184   \n",
      "_________________________________________________________________\n",
      "dropout_8 (Dropout)          (None, 256)               0         \n",
      "_________________________________________________________________\n",
      "dense_5 (Dense)              (None, 10)                2570      \n",
      "=================================================================\n",
      "Total params: 3,995,818\n",
      "Trainable params: 3,995,818\n",
      "Non-trainable params: 0\n",
      "_________________________________________________________________\n"
     ]
    }
   ],
   "source": [
    "model = Sequential()\n",
    "\n",
    "# First and second convolutional blocks\n",
    "# input: 100x100 images with 1 channel -> (100, 100, 1) tensors.\n",
    "# thise apply 16 convolution filters of size 3x3 each.\n",
    "model.add(Conv2D(32, (3, 3), activation='relu', input_shape=(100, 100, 1)))    # GENERA 16 KERNEL DE 5x5. ES DECIR REALIZA 16 VECES LA CONVOLUCION. lE DA EL ESPESOR\n",
    "model.add(Conv2D(32, (3, 3), activation='relu'))\n",
    "model.add(MaxPooling2D(pool_size=(2, 2)))\n",
    "model.add(Dropout(0.25))\n",
    "\n",
    "# Third and fourth convolutional blocks\n",
    "# input: 12x12 images with 16 channel -> (12, 12, 16) tensors.\n",
    "# this applies 32 convolution filters of size 5x5 each.\n",
    "model.add(Conv2D(32, (3, 3), activation='relu'))\n",
    "model.add(Conv2D(32, (3, 3), activation='relu'))\n",
    "model.add(MaxPooling2D(pool_size=(2, 2)))\n",
    "model.add(Dropout(0.25))\n",
    "\n",
    "# Full connected layer\n",
    "# input: 512\n",
    "model.add(Flatten())   #REAPILA LA IMAGEN EN UN VECTOR\n",
    "model.add(Dense(256, activation='relu'))\n",
    "model.add(Dropout(0.5))\n",
    "\n",
    "# Outpup layer\n",
    "# input: 256\n",
    "model.add(Dense(10, activation='softmax'))\n",
    "\n",
    "model.summary()  #PARAM NUMERO DE PESOS"
   ]
  },
  {
   "cell_type": "markdown",
   "metadata": {},
   "source": [
    "### Para mostrar la arquitectura de la RED"
   ]
  },
  {
   "cell_type": "code",
   "execution_count": 31,
   "metadata": {},
   "outputs": [
    {
     "name": "stdout",
     "output_type": "stream",
     "text": [
      "('Failed to import pydot. You must `pip install pydot` and install graphviz (https://graphviz.gitlab.io/download/), ', 'for `pydotprint` to work.')\n"
     ]
    },
    {
     "ename": "FileNotFoundError",
     "evalue": "[Errno 2] No such file or directory: '/home/lucas/Escritorio/proyecto_imagenes_CNN/model.png'",
     "output_type": "error",
     "traceback": [
      "\u001b[0;31m---------------------------------------------------------------------------\u001b[0m",
      "\u001b[0;31mFileNotFoundError\u001b[0m                         Traceback (most recent call last)",
      "\u001b[0;32m/tmp/ipykernel_61283/3893633618.py\u001b[0m in \u001b[0;36m<module>\u001b[0;34m\u001b[0m\n\u001b[1;32m      1\u001b[0m \u001b[0mkeras\u001b[0m\u001b[0;34m.\u001b[0m\u001b[0mutils\u001b[0m\u001b[0;34m.\u001b[0m\u001b[0mplot_model\u001b[0m\u001b[0;34m(\u001b[0m\u001b[0mmodel\u001b[0m\u001b[0;34m,\u001b[0m \u001b[0mto_file\u001b[0m\u001b[0;34m=\u001b[0m\u001b[0;34m'/home/lucas/Escritorio/proyecto_imagenes_CNN/model.png'\u001b[0m\u001b[0;34m,\u001b[0m \u001b[0mshow_shapes\u001b[0m\u001b[0;34m=\u001b[0m\u001b[0;32mTrue\u001b[0m\u001b[0;34m,\u001b[0m \u001b[0mshow_layer_names\u001b[0m\u001b[0;34m=\u001b[0m\u001b[0;32mTrue\u001b[0m\u001b[0;34m,\u001b[0m \u001b[0mrankdir\u001b[0m\u001b[0;34m=\u001b[0m\u001b[0;34m'TB'\u001b[0m\u001b[0;34m)\u001b[0m\u001b[0;34m\u001b[0m\u001b[0;34m\u001b[0m\u001b[0m\n\u001b[0;32m----> 2\u001b[0;31m \u001b[0mImage\u001b[0m\u001b[0;34m(\u001b[0m\u001b[0mretina\u001b[0m\u001b[0;34m=\u001b[0m\u001b[0;32mTrue\u001b[0m\u001b[0;34m,\u001b[0m \u001b[0mfilename\u001b[0m\u001b[0;34m=\u001b[0m\u001b[0;34m'/home/lucas/Escritorio/proyecto_imagenes_CNN/model.png'\u001b[0m\u001b[0;34m)\u001b[0m\u001b[0;34m\u001b[0m\u001b[0;34m\u001b[0m\u001b[0m\n\u001b[0m",
      "\u001b[0;32m~/anaconda3/envs/env_tensorflow/lib/python3.7/site-packages/IPython/core/display.py\u001b[0m in \u001b[0;36m__init__\u001b[0;34m(self, data, url, filename, format, embed, width, height, retina, unconfined, metadata)\u001b[0m\n\u001b[1;32m   1230\u001b[0m         \u001b[0mself\u001b[0m\u001b[0;34m.\u001b[0m\u001b[0munconfined\u001b[0m \u001b[0;34m=\u001b[0m \u001b[0munconfined\u001b[0m\u001b[0;34m\u001b[0m\u001b[0;34m\u001b[0m\u001b[0m\n\u001b[1;32m   1231\u001b[0m         super(Image, self).__init__(data=data, url=url, filename=filename, \n\u001b[0;32m-> 1232\u001b[0;31m                 metadata=metadata)\n\u001b[0m\u001b[1;32m   1233\u001b[0m \u001b[0;34m\u001b[0m\u001b[0m\n\u001b[1;32m   1234\u001b[0m         \u001b[0;32mif\u001b[0m \u001b[0mself\u001b[0m\u001b[0;34m.\u001b[0m\u001b[0mwidth\u001b[0m \u001b[0;32mis\u001b[0m \u001b[0;32mNone\u001b[0m \u001b[0;32mand\u001b[0m \u001b[0mself\u001b[0m\u001b[0;34m.\u001b[0m\u001b[0mmetadata\u001b[0m\u001b[0;34m.\u001b[0m\u001b[0mget\u001b[0m\u001b[0;34m(\u001b[0m\u001b[0;34m'width'\u001b[0m\u001b[0;34m,\u001b[0m \u001b[0;34m{\u001b[0m\u001b[0;34m}\u001b[0m\u001b[0;34m)\u001b[0m\u001b[0;34m:\u001b[0m\u001b[0;34m\u001b[0m\u001b[0;34m\u001b[0m\u001b[0m\n",
      "\u001b[0;32m~/anaconda3/envs/env_tensorflow/lib/python3.7/site-packages/IPython/core/display.py\u001b[0m in \u001b[0;36m__init__\u001b[0;34m(self, data, url, filename, metadata)\u001b[0m\n\u001b[1;32m    635\u001b[0m             \u001b[0mself\u001b[0m\u001b[0;34m.\u001b[0m\u001b[0mmetadata\u001b[0m \u001b[0;34m=\u001b[0m \u001b[0;34m{\u001b[0m\u001b[0;34m}\u001b[0m\u001b[0;34m\u001b[0m\u001b[0;34m\u001b[0m\u001b[0m\n\u001b[1;32m    636\u001b[0m \u001b[0;34m\u001b[0m\u001b[0m\n\u001b[0;32m--> 637\u001b[0;31m         \u001b[0mself\u001b[0m\u001b[0;34m.\u001b[0m\u001b[0mreload\u001b[0m\u001b[0;34m(\u001b[0m\u001b[0;34m)\u001b[0m\u001b[0;34m\u001b[0m\u001b[0;34m\u001b[0m\u001b[0m\n\u001b[0m\u001b[1;32m    638\u001b[0m         \u001b[0mself\u001b[0m\u001b[0;34m.\u001b[0m\u001b[0m_check_data\u001b[0m\u001b[0;34m(\u001b[0m\u001b[0;34m)\u001b[0m\u001b[0;34m\u001b[0m\u001b[0;34m\u001b[0m\u001b[0m\n\u001b[1;32m    639\u001b[0m \u001b[0;34m\u001b[0m\u001b[0m\n",
      "\u001b[0;32m~/anaconda3/envs/env_tensorflow/lib/python3.7/site-packages/IPython/core/display.py\u001b[0m in \u001b[0;36mreload\u001b[0;34m(self)\u001b[0m\n\u001b[1;32m   1261\u001b[0m         \u001b[0;34m\"\"\"Reload the raw data from file or URL.\"\"\"\u001b[0m\u001b[0;34m\u001b[0m\u001b[0;34m\u001b[0m\u001b[0m\n\u001b[1;32m   1262\u001b[0m         \u001b[0;32mif\u001b[0m \u001b[0mself\u001b[0m\u001b[0;34m.\u001b[0m\u001b[0membed\u001b[0m\u001b[0;34m:\u001b[0m\u001b[0;34m\u001b[0m\u001b[0;34m\u001b[0m\u001b[0m\n\u001b[0;32m-> 1263\u001b[0;31m             \u001b[0msuper\u001b[0m\u001b[0;34m(\u001b[0m\u001b[0mImage\u001b[0m\u001b[0;34m,\u001b[0m\u001b[0mself\u001b[0m\u001b[0;34m)\u001b[0m\u001b[0;34m.\u001b[0m\u001b[0mreload\u001b[0m\u001b[0;34m(\u001b[0m\u001b[0;34m)\u001b[0m\u001b[0;34m\u001b[0m\u001b[0;34m\u001b[0m\u001b[0m\n\u001b[0m\u001b[1;32m   1264\u001b[0m             \u001b[0;32mif\u001b[0m \u001b[0mself\u001b[0m\u001b[0;34m.\u001b[0m\u001b[0mretina\u001b[0m\u001b[0;34m:\u001b[0m\u001b[0;34m\u001b[0m\u001b[0;34m\u001b[0m\u001b[0m\n\u001b[1;32m   1265\u001b[0m                 \u001b[0mself\u001b[0m\u001b[0;34m.\u001b[0m\u001b[0m_retina_shape\u001b[0m\u001b[0;34m(\u001b[0m\u001b[0;34m)\u001b[0m\u001b[0;34m\u001b[0m\u001b[0;34m\u001b[0m\u001b[0m\n",
      "\u001b[0;32m~/anaconda3/envs/env_tensorflow/lib/python3.7/site-packages/IPython/core/display.py\u001b[0m in \u001b[0;36mreload\u001b[0;34m(self)\u001b[0m\n\u001b[1;32m    660\u001b[0m         \u001b[0;34m\"\"\"Reload the raw data from file or URL.\"\"\"\u001b[0m\u001b[0;34m\u001b[0m\u001b[0;34m\u001b[0m\u001b[0m\n\u001b[1;32m    661\u001b[0m         \u001b[0;32mif\u001b[0m \u001b[0mself\u001b[0m\u001b[0;34m.\u001b[0m\u001b[0mfilename\u001b[0m \u001b[0;32mis\u001b[0m \u001b[0;32mnot\u001b[0m \u001b[0;32mNone\u001b[0m\u001b[0;34m:\u001b[0m\u001b[0;34m\u001b[0m\u001b[0;34m\u001b[0m\u001b[0m\n\u001b[0;32m--> 662\u001b[0;31m             \u001b[0;32mwith\u001b[0m \u001b[0mopen\u001b[0m\u001b[0;34m(\u001b[0m\u001b[0mself\u001b[0m\u001b[0;34m.\u001b[0m\u001b[0mfilename\u001b[0m\u001b[0;34m,\u001b[0m \u001b[0mself\u001b[0m\u001b[0;34m.\u001b[0m\u001b[0m_read_flags\u001b[0m\u001b[0;34m)\u001b[0m \u001b[0;32mas\u001b[0m \u001b[0mf\u001b[0m\u001b[0;34m:\u001b[0m\u001b[0;34m\u001b[0m\u001b[0;34m\u001b[0m\u001b[0m\n\u001b[0m\u001b[1;32m    663\u001b[0m                 \u001b[0mself\u001b[0m\u001b[0;34m.\u001b[0m\u001b[0mdata\u001b[0m \u001b[0;34m=\u001b[0m \u001b[0mf\u001b[0m\u001b[0;34m.\u001b[0m\u001b[0mread\u001b[0m\u001b[0;34m(\u001b[0m\u001b[0;34m)\u001b[0m\u001b[0;34m\u001b[0m\u001b[0;34m\u001b[0m\u001b[0m\n\u001b[1;32m    664\u001b[0m         \u001b[0;32melif\u001b[0m \u001b[0mself\u001b[0m\u001b[0;34m.\u001b[0m\u001b[0murl\u001b[0m \u001b[0;32mis\u001b[0m \u001b[0;32mnot\u001b[0m \u001b[0;32mNone\u001b[0m\u001b[0;34m:\u001b[0m\u001b[0;34m\u001b[0m\u001b[0;34m\u001b[0m\u001b[0m\n",
      "\u001b[0;31mFileNotFoundError\u001b[0m: [Errno 2] No such file or directory: '/home/lucas/Escritorio/proyecto_imagenes_CNN/model.png'"
     ]
    }
   ],
   "source": [
    "keras.utils.plot_model(model, to_file='/home/lucas/Escritorio/proyecto_imagenes_CNN/model.png', show_shapes=True, show_layer_names=True, rankdir='TB')\n",
    "Image(retina=True, filename='/home/lucas/Escritorio/proyecto_imagenes_CNN/model.png')"
   ]
  },
  {
   "cell_type": "markdown",
   "metadata": {},
   "source": [
    "### Compilacion del modelo: declaracion de optimizador y funcion de perdidas"
   ]
  },
  {
   "cell_type": "code",
   "execution_count": 32,
   "metadata": {},
   "outputs": [],
   "source": [
    "#sgd=SGD(lr=0.01, decay=1e-6, momentum=0.9, nesterov=True)\n",
    "\n",
    "model.compile(loss='categorical_crossentropy',\n",
    "              optimizer=Adam(lr=0.001),\n",
    "              metrics=['accuracy'])"
   ]
  },
  {
   "cell_type": "markdown",
   "metadata": {},
   "source": [
    "### Entrenamiento de la RED"
   ]
  },
  {
   "cell_type": "code",
   "execution_count": 33,
   "metadata": {},
   "outputs": [
    {
     "name": "stdout",
     "output_type": "stream",
     "text": [
      "Epoch 1/77\n"
     ]
    },
    {
     "name": "stderr",
     "output_type": "stream",
     "text": [
      "2022-06-08 16:24:27.894897: W tensorflow/core/framework/cpu_allocator_impl.cc:81] Allocation of 122931200 exceeds 10% of free system memory.\n",
      "2022-06-08 16:24:27.935272: W tensorflow/core/framework/cpu_allocator_impl.cc:81] Allocation of 117964800 exceeds 10% of free system memory.\n",
      "2022-06-08 16:24:28.283498: W tensorflow/core/framework/cpu_allocator_impl.cc:81] Allocation of 117964800 exceeds 10% of free system memory.\n",
      "2022-06-08 16:24:28.374982: W tensorflow/core/framework/cpu_allocator_impl.cc:81] Allocation of 122931200 exceeds 10% of free system memory.\n"
     ]
    },
    {
     "name": "stdout",
     "output_type": "stream",
     "text": [
      "15/15 [==============================] - 12s 813ms/step - loss: 2.3163 - accuracy: 0.1194 - val_loss: 2.2546 - val_accuracy: 0.3962\n",
      "Epoch 2/77\n",
      "15/15 [==============================] - 11s 741ms/step - loss: 1.8983 - accuracy: 0.3833 - val_loss: 1.2525 - val_accuracy: 0.5903\n",
      "Epoch 3/77\n",
      "15/15 [==============================] - 11s 744ms/step - loss: 1.1499 - accuracy: 0.6201 - val_loss: 0.8712 - val_accuracy: 0.7170\n",
      "Epoch 4/77\n",
      "15/15 [==============================] - 11s 734ms/step - loss: 0.8721 - accuracy: 0.7166 - val_loss: 0.7288 - val_accuracy: 0.7601\n",
      "Epoch 5/77\n",
      "13/15 [=========================>....] - ETA: 1s - loss: 0.6861 - accuracy: 0.7623"
     ]
    },
    {
     "ename": "KeyboardInterrupt",
     "evalue": "",
     "output_type": "error",
     "traceback": [
      "\u001b[0;31m---------------------------------------------------------------------------\u001b[0m",
      "\u001b[0;31mKeyboardInterrupt\u001b[0m                         Traceback (most recent call last)",
      "\u001b[0;32m/tmp/ipykernel_61283/2809358584.py\u001b[0m in \u001b[0;36m<module>\u001b[0;34m\u001b[0m\n\u001b[1;32m      7\u001b[0m                     \u001b[0mepochs\u001b[0m\u001b[0;34m=\u001b[0m\u001b[0mepochs\u001b[0m\u001b[0;34m,\u001b[0m\u001b[0;34m\u001b[0m\u001b[0;34m\u001b[0m\u001b[0m\n\u001b[1;32m      8\u001b[0m                     \u001b[0mverbose\u001b[0m\u001b[0;34m=\u001b[0m\u001b[0;36m1\u001b[0m\u001b[0;34m,\u001b[0m\u001b[0;34m\u001b[0m\u001b[0;34m\u001b[0m\u001b[0m\n\u001b[0;32m----> 9\u001b[0;31m                     validation_split = porc_datos_validacion)\n\u001b[0m",
      "\u001b[0;32m~/anaconda3/envs/env_tensorflow/lib/python3.7/site-packages/tensorflow/python/keras/engine/training.py\u001b[0m in \u001b[0;36m_method_wrapper\u001b[0;34m(self, *args, **kwargs)\u001b[0m\n\u001b[1;32m    106\u001b[0m   \u001b[0;32mdef\u001b[0m \u001b[0m_method_wrapper\u001b[0m\u001b[0;34m(\u001b[0m\u001b[0mself\u001b[0m\u001b[0;34m,\u001b[0m \u001b[0;34m*\u001b[0m\u001b[0margs\u001b[0m\u001b[0;34m,\u001b[0m \u001b[0;34m**\u001b[0m\u001b[0mkwargs\u001b[0m\u001b[0;34m)\u001b[0m\u001b[0;34m:\u001b[0m\u001b[0;34m\u001b[0m\u001b[0;34m\u001b[0m\u001b[0m\n\u001b[1;32m    107\u001b[0m     \u001b[0;32mif\u001b[0m \u001b[0;32mnot\u001b[0m \u001b[0mself\u001b[0m\u001b[0;34m.\u001b[0m\u001b[0m_in_multi_worker_mode\u001b[0m\u001b[0;34m(\u001b[0m\u001b[0;34m)\u001b[0m\u001b[0;34m:\u001b[0m  \u001b[0;31m# pylint: disable=protected-access\u001b[0m\u001b[0;34m\u001b[0m\u001b[0;34m\u001b[0m\u001b[0m\n\u001b[0;32m--> 108\u001b[0;31m       \u001b[0;32mreturn\u001b[0m \u001b[0mmethod\u001b[0m\u001b[0;34m(\u001b[0m\u001b[0mself\u001b[0m\u001b[0;34m,\u001b[0m \u001b[0;34m*\u001b[0m\u001b[0margs\u001b[0m\u001b[0;34m,\u001b[0m \u001b[0;34m**\u001b[0m\u001b[0mkwargs\u001b[0m\u001b[0;34m)\u001b[0m\u001b[0;34m\u001b[0m\u001b[0;34m\u001b[0m\u001b[0m\n\u001b[0m\u001b[1;32m    109\u001b[0m \u001b[0;34m\u001b[0m\u001b[0m\n\u001b[1;32m    110\u001b[0m     \u001b[0;31m# Running inside `run_distribute_coordinator` already.\u001b[0m\u001b[0;34m\u001b[0m\u001b[0;34m\u001b[0m\u001b[0;34m\u001b[0m\u001b[0m\n",
      "\u001b[0;32m~/anaconda3/envs/env_tensorflow/lib/python3.7/site-packages/tensorflow/python/keras/engine/training.py\u001b[0m in \u001b[0;36mfit\u001b[0;34m(self, x, y, batch_size, epochs, verbose, callbacks, validation_split, validation_data, shuffle, class_weight, sample_weight, initial_epoch, steps_per_epoch, validation_steps, validation_batch_size, validation_freq, max_queue_size, workers, use_multiprocessing)\u001b[0m\n\u001b[1;32m   1096\u001b[0m                 batch_size=batch_size):\n\u001b[1;32m   1097\u001b[0m               \u001b[0mcallbacks\u001b[0m\u001b[0;34m.\u001b[0m\u001b[0mon_train_batch_begin\u001b[0m\u001b[0;34m(\u001b[0m\u001b[0mstep\u001b[0m\u001b[0;34m)\u001b[0m\u001b[0;34m\u001b[0m\u001b[0;34m\u001b[0m\u001b[0m\n\u001b[0;32m-> 1098\u001b[0;31m               \u001b[0mtmp_logs\u001b[0m \u001b[0;34m=\u001b[0m \u001b[0mtrain_function\u001b[0m\u001b[0;34m(\u001b[0m\u001b[0miterator\u001b[0m\u001b[0;34m)\u001b[0m\u001b[0;34m\u001b[0m\u001b[0;34m\u001b[0m\u001b[0m\n\u001b[0m\u001b[1;32m   1099\u001b[0m               \u001b[0;32mif\u001b[0m \u001b[0mdata_handler\u001b[0m\u001b[0;34m.\u001b[0m\u001b[0mshould_sync\u001b[0m\u001b[0;34m:\u001b[0m\u001b[0;34m\u001b[0m\u001b[0;34m\u001b[0m\u001b[0m\n\u001b[1;32m   1100\u001b[0m                 \u001b[0mcontext\u001b[0m\u001b[0;34m.\u001b[0m\u001b[0masync_wait\u001b[0m\u001b[0;34m(\u001b[0m\u001b[0;34m)\u001b[0m\u001b[0;34m\u001b[0m\u001b[0;34m\u001b[0m\u001b[0m\n",
      "\u001b[0;32m~/anaconda3/envs/env_tensorflow/lib/python3.7/site-packages/tensorflow/python/eager/def_function.py\u001b[0m in \u001b[0;36m__call__\u001b[0;34m(self, *args, **kwds)\u001b[0m\n\u001b[1;32m    778\u001b[0m       \u001b[0;32melse\u001b[0m\u001b[0;34m:\u001b[0m\u001b[0;34m\u001b[0m\u001b[0;34m\u001b[0m\u001b[0m\n\u001b[1;32m    779\u001b[0m         \u001b[0mcompiler\u001b[0m \u001b[0;34m=\u001b[0m \u001b[0;34m\"nonXla\"\u001b[0m\u001b[0;34m\u001b[0m\u001b[0;34m\u001b[0m\u001b[0m\n\u001b[0;32m--> 780\u001b[0;31m         \u001b[0mresult\u001b[0m \u001b[0;34m=\u001b[0m \u001b[0mself\u001b[0m\u001b[0;34m.\u001b[0m\u001b[0m_call\u001b[0m\u001b[0;34m(\u001b[0m\u001b[0;34m*\u001b[0m\u001b[0margs\u001b[0m\u001b[0;34m,\u001b[0m \u001b[0;34m**\u001b[0m\u001b[0mkwds\u001b[0m\u001b[0;34m)\u001b[0m\u001b[0;34m\u001b[0m\u001b[0;34m\u001b[0m\u001b[0m\n\u001b[0m\u001b[1;32m    781\u001b[0m \u001b[0;34m\u001b[0m\u001b[0m\n\u001b[1;32m    782\u001b[0m       \u001b[0mnew_tracing_count\u001b[0m \u001b[0;34m=\u001b[0m \u001b[0mself\u001b[0m\u001b[0;34m.\u001b[0m\u001b[0m_get_tracing_count\u001b[0m\u001b[0;34m(\u001b[0m\u001b[0;34m)\u001b[0m\u001b[0;34m\u001b[0m\u001b[0;34m\u001b[0m\u001b[0m\n",
      "\u001b[0;32m~/anaconda3/envs/env_tensorflow/lib/python3.7/site-packages/tensorflow/python/eager/def_function.py\u001b[0m in \u001b[0;36m_call\u001b[0;34m(self, *args, **kwds)\u001b[0m\n\u001b[1;32m    805\u001b[0m       \u001b[0;31m# In this case we have created variables on the first call, so we run the\u001b[0m\u001b[0;34m\u001b[0m\u001b[0;34m\u001b[0m\u001b[0;34m\u001b[0m\u001b[0m\n\u001b[1;32m    806\u001b[0m       \u001b[0;31m# defunned version which is guaranteed to never create variables.\u001b[0m\u001b[0;34m\u001b[0m\u001b[0;34m\u001b[0m\u001b[0;34m\u001b[0m\u001b[0m\n\u001b[0;32m--> 807\u001b[0;31m       \u001b[0;32mreturn\u001b[0m \u001b[0mself\u001b[0m\u001b[0;34m.\u001b[0m\u001b[0m_stateless_fn\u001b[0m\u001b[0;34m(\u001b[0m\u001b[0;34m*\u001b[0m\u001b[0margs\u001b[0m\u001b[0;34m,\u001b[0m \u001b[0;34m**\u001b[0m\u001b[0mkwds\u001b[0m\u001b[0;34m)\u001b[0m  \u001b[0;31m# pylint: disable=not-callable\u001b[0m\u001b[0;34m\u001b[0m\u001b[0;34m\u001b[0m\u001b[0m\n\u001b[0m\u001b[1;32m    808\u001b[0m     \u001b[0;32melif\u001b[0m \u001b[0mself\u001b[0m\u001b[0;34m.\u001b[0m\u001b[0m_stateful_fn\u001b[0m \u001b[0;32mis\u001b[0m \u001b[0;32mnot\u001b[0m \u001b[0;32mNone\u001b[0m\u001b[0;34m:\u001b[0m\u001b[0;34m\u001b[0m\u001b[0;34m\u001b[0m\u001b[0m\n\u001b[1;32m    809\u001b[0m       \u001b[0;31m# Release the lock early so that multiple threads can perform the call\u001b[0m\u001b[0;34m\u001b[0m\u001b[0;34m\u001b[0m\u001b[0;34m\u001b[0m\u001b[0m\n",
      "\u001b[0;32m~/anaconda3/envs/env_tensorflow/lib/python3.7/site-packages/tensorflow/python/eager/function.py\u001b[0m in \u001b[0;36m__call__\u001b[0;34m(self, *args, **kwargs)\u001b[0m\n\u001b[1;32m   2827\u001b[0m     \u001b[0;32mwith\u001b[0m \u001b[0mself\u001b[0m\u001b[0;34m.\u001b[0m\u001b[0m_lock\u001b[0m\u001b[0;34m:\u001b[0m\u001b[0;34m\u001b[0m\u001b[0;34m\u001b[0m\u001b[0m\n\u001b[1;32m   2828\u001b[0m       \u001b[0mgraph_function\u001b[0m\u001b[0;34m,\u001b[0m \u001b[0margs\u001b[0m\u001b[0;34m,\u001b[0m \u001b[0mkwargs\u001b[0m \u001b[0;34m=\u001b[0m \u001b[0mself\u001b[0m\u001b[0;34m.\u001b[0m\u001b[0m_maybe_define_function\u001b[0m\u001b[0;34m(\u001b[0m\u001b[0margs\u001b[0m\u001b[0;34m,\u001b[0m \u001b[0mkwargs\u001b[0m\u001b[0;34m)\u001b[0m\u001b[0;34m\u001b[0m\u001b[0;34m\u001b[0m\u001b[0m\n\u001b[0;32m-> 2829\u001b[0;31m     \u001b[0;32mreturn\u001b[0m \u001b[0mgraph_function\u001b[0m\u001b[0;34m.\u001b[0m\u001b[0m_filtered_call\u001b[0m\u001b[0;34m(\u001b[0m\u001b[0margs\u001b[0m\u001b[0;34m,\u001b[0m \u001b[0mkwargs\u001b[0m\u001b[0;34m)\u001b[0m  \u001b[0;31m# pylint: disable=protected-access\u001b[0m\u001b[0;34m\u001b[0m\u001b[0;34m\u001b[0m\u001b[0m\n\u001b[0m\u001b[1;32m   2830\u001b[0m \u001b[0;34m\u001b[0m\u001b[0m\n\u001b[1;32m   2831\u001b[0m   \u001b[0;34m@\u001b[0m\u001b[0mproperty\u001b[0m\u001b[0;34m\u001b[0m\u001b[0;34m\u001b[0m\u001b[0m\n",
      "\u001b[0;32m~/anaconda3/envs/env_tensorflow/lib/python3.7/site-packages/tensorflow/python/eager/function.py\u001b[0m in \u001b[0;36m_filtered_call\u001b[0;34m(self, args, kwargs, cancellation_manager)\u001b[0m\n\u001b[1;32m   1846\u001b[0m                            resource_variable_ops.BaseResourceVariable))],\n\u001b[1;32m   1847\u001b[0m         \u001b[0mcaptured_inputs\u001b[0m\u001b[0;34m=\u001b[0m\u001b[0mself\u001b[0m\u001b[0;34m.\u001b[0m\u001b[0mcaptured_inputs\u001b[0m\u001b[0;34m,\u001b[0m\u001b[0;34m\u001b[0m\u001b[0;34m\u001b[0m\u001b[0m\n\u001b[0;32m-> 1848\u001b[0;31m         cancellation_manager=cancellation_manager)\n\u001b[0m\u001b[1;32m   1849\u001b[0m \u001b[0;34m\u001b[0m\u001b[0m\n\u001b[1;32m   1850\u001b[0m   \u001b[0;32mdef\u001b[0m \u001b[0m_call_flat\u001b[0m\u001b[0;34m(\u001b[0m\u001b[0mself\u001b[0m\u001b[0;34m,\u001b[0m \u001b[0margs\u001b[0m\u001b[0;34m,\u001b[0m \u001b[0mcaptured_inputs\u001b[0m\u001b[0;34m,\u001b[0m \u001b[0mcancellation_manager\u001b[0m\u001b[0;34m=\u001b[0m\u001b[0;32mNone\u001b[0m\u001b[0;34m)\u001b[0m\u001b[0;34m:\u001b[0m\u001b[0;34m\u001b[0m\u001b[0;34m\u001b[0m\u001b[0m\n",
      "\u001b[0;32m~/anaconda3/envs/env_tensorflow/lib/python3.7/site-packages/tensorflow/python/eager/function.py\u001b[0m in \u001b[0;36m_call_flat\u001b[0;34m(self, args, captured_inputs, cancellation_manager)\u001b[0m\n\u001b[1;32m   1922\u001b[0m       \u001b[0;31m# No tape is watching; skip to running the function.\u001b[0m\u001b[0;34m\u001b[0m\u001b[0;34m\u001b[0m\u001b[0;34m\u001b[0m\u001b[0m\n\u001b[1;32m   1923\u001b[0m       return self._build_call_outputs(self._inference_function.call(\n\u001b[0;32m-> 1924\u001b[0;31m           ctx, args, cancellation_manager=cancellation_manager))\n\u001b[0m\u001b[1;32m   1925\u001b[0m     forward_backward = self._select_forward_and_backward_functions(\n\u001b[1;32m   1926\u001b[0m         \u001b[0margs\u001b[0m\u001b[0;34m,\u001b[0m\u001b[0;34m\u001b[0m\u001b[0;34m\u001b[0m\u001b[0m\n",
      "\u001b[0;32m~/anaconda3/envs/env_tensorflow/lib/python3.7/site-packages/tensorflow/python/eager/function.py\u001b[0m in \u001b[0;36mcall\u001b[0;34m(self, ctx, args, cancellation_manager)\u001b[0m\n\u001b[1;32m    548\u001b[0m               \u001b[0minputs\u001b[0m\u001b[0;34m=\u001b[0m\u001b[0margs\u001b[0m\u001b[0;34m,\u001b[0m\u001b[0;34m\u001b[0m\u001b[0;34m\u001b[0m\u001b[0m\n\u001b[1;32m    549\u001b[0m               \u001b[0mattrs\u001b[0m\u001b[0;34m=\u001b[0m\u001b[0mattrs\u001b[0m\u001b[0;34m,\u001b[0m\u001b[0;34m\u001b[0m\u001b[0;34m\u001b[0m\u001b[0m\n\u001b[0;32m--> 550\u001b[0;31m               ctx=ctx)\n\u001b[0m\u001b[1;32m    551\u001b[0m         \u001b[0;32melse\u001b[0m\u001b[0;34m:\u001b[0m\u001b[0;34m\u001b[0m\u001b[0;34m\u001b[0m\u001b[0m\n\u001b[1;32m    552\u001b[0m           outputs = execute.execute_with_cancellation(\n",
      "\u001b[0;32m~/anaconda3/envs/env_tensorflow/lib/python3.7/site-packages/tensorflow/python/eager/execute.py\u001b[0m in \u001b[0;36mquick_execute\u001b[0;34m(op_name, num_outputs, inputs, attrs, ctx, name)\u001b[0m\n\u001b[1;32m     58\u001b[0m     \u001b[0mctx\u001b[0m\u001b[0;34m.\u001b[0m\u001b[0mensure_initialized\u001b[0m\u001b[0;34m(\u001b[0m\u001b[0;34m)\u001b[0m\u001b[0;34m\u001b[0m\u001b[0;34m\u001b[0m\u001b[0m\n\u001b[1;32m     59\u001b[0m     tensors = pywrap_tfe.TFE_Py_Execute(ctx._handle, device_name, op_name,\n\u001b[0;32m---> 60\u001b[0;31m                                         inputs, attrs, num_outputs)\n\u001b[0m\u001b[1;32m     61\u001b[0m   \u001b[0;32mexcept\u001b[0m \u001b[0mcore\u001b[0m\u001b[0;34m.\u001b[0m\u001b[0m_NotOkStatusException\u001b[0m \u001b[0;32mas\u001b[0m \u001b[0me\u001b[0m\u001b[0;34m:\u001b[0m\u001b[0;34m\u001b[0m\u001b[0;34m\u001b[0m\u001b[0m\n\u001b[1;32m     62\u001b[0m     \u001b[0;32mif\u001b[0m \u001b[0mname\u001b[0m \u001b[0;32mis\u001b[0m \u001b[0;32mnot\u001b[0m \u001b[0;32mNone\u001b[0m\u001b[0;34m:\u001b[0m\u001b[0;34m\u001b[0m\u001b[0;34m\u001b[0m\u001b[0m\n",
      "\u001b[0;31mKeyboardInterrupt\u001b[0m: "
     ]
    }
   ],
   "source": [
    "batch_size = 100\n",
    "epochs = 77\n",
    "porc_datos_validacion = 0.2\n",
    "\n",
    "red_CNN = model.fit(X_train, Y_train,\n",
    "                    batch_size=batch_size,\n",
    "                    epochs=epochs,\n",
    "                    verbose=1,\n",
    "                    validation_split = porc_datos_validacion)\n"
   ]
  },
  {
   "cell_type": "markdown",
   "metadata": {},
   "source": [
    "### GUARDAR MODELO"
   ]
  },
  {
   "cell_type": "code",
   "execution_count": null,
   "metadata": {},
   "outputs": [],
   "source": [
    "#Guarda el modelo\n",
    "autoencoder_CNN.save(\"C:/Users/Celeste/Desktop/Python_proyects/Autoencoders/modelo_CNN\")  #especificar carpeta\n",
    "\n",
    "#Cargar el modelo\n",
    "#autoencoder2 = AutoEncoder.load(\"C:/Users/Celeste/Desktop/Python_proyects/Autoencoders/modelo_CNN\"')  #carga el modelo\n",
    "#autoencoder2.summary()  #muestra el modelo"
   ]
  },
  {
   "cell_type": "markdown",
   "metadata": {},
   "source": [
    "### EVALUACIÓN DEL MODELO"
   ]
  },
  {
   "cell_type": "code",
   "execution_count": 20,
   "metadata": {},
   "outputs": [
    {
     "data": {
      "text/plain": [
       "<matplotlib.legend.Legend at 0x20b30238408>"
      ]
     },
     "execution_count": 20,
     "metadata": {},
     "output_type": "execute_result"
    },
    {
     "data": {
      "image/png": "[encoded data removed]",
      "text/plain": [
       "<Figure size 432x288 with 1 Axes>"
      ]
     },
     "metadata": {
      "needs_background": "light"
     },
     "output_type": "display_data"
    }
   ],
   "source": [
    "#En esta etapa se utilizarán los datos de validación para evaluar el entrenamiento. Los datos de validación son un porcentaje \n",
    "# de los datos de entrenamiento destinados a seguir la evolución del entrenamiento. Estos datos no participan del entrenamiento.\n",
    "# Se generan gráficos que sirven para evaluar el entrenamiento: overfiting\n",
    "\n",
    "fig = plt.figure()\n",
    "plt.ylabel('error')\n",
    "plt.xlabel('épocas')\n",
    "plt.plot(red_CNN.history[\"loss\"], label=\"Training Loss\")\n",
    "plt.plot(red_CNN.history[\"val_loss\"], label=\"Validation Loss\")\n",
    "plt.legend()\n"
   ]
  },
  {
   "cell_type": "code",
   "execution_count": 21,
   "metadata": {},
   "outputs": [
    {
     "name": "stdout",
     "output_type": "stream",
     "text": [
      "[7 4 4 9 7 5 0 8 1 8 8 8 6 7 8 1 5 2 4 2 4 8 3 2 4 3 4 1 0 4 7 5 4 0 2 7 8\n",
      " 1 6 2 7 2 5 9 6 3 9 0 0 6 3 7 1 2 6 4 6 6 4 6 1 4 9 2 9 0 9 8 7 2 2 4 2 3\n",
      " 2 5 6 9 1 5 8 8 1 4 8 0 4 9 1 9 9 0 2 6 3 6 7 0 6 4 5 6 3 3 5 0 9 8 6 2 1\n",
      " 1 1 5 5 2 2 6 2 1 6 6 5 6 5 3 9 7 2 1 5 9 6 5 1 8 0 2 3 6 9 5 2 6 8 8 3 8\n",
      " 8 0 7 4 0 1 6 6 1 5 0 6 0 7 4 6 2 5 1 2 1 9 2 1 1 0 1 3 4 8 1 7 7 2 3 1 6\n",
      " 6 4 1 6 0 3 8 8 2 2 2 3 5 6 0 8 6 5 1]\n",
      "[7 4 4 9 6 5 0 8 1 8 8 8 6 7 8 1 5 2 7 2 4 8 3 2 4 3 4 1 0 4 7 5 4 0 2 7 8\n",
      " 1 4 2 7 2 5 9 4 3 9 0 0 6 2 7 1 2 6 4 6 6 4 6 1 4 9 2 9 0 9 4 7 2 2 4 2 3\n",
      " 2 5 7 9 1 5 8 8 9 7 8 0 4 9 1 9 9 0 2 6 3 6 7 0 6 4 5 6 3 3 5 0 8 7 6 2 2\n",
      " 1 1 5 5 2 2 6 2 1 6 6 5 4 5 3 9 7 7 1 5 0 6 5 1 8 0 2 3 6 9 5 2 6 8 8 3 8\n",
      " 8 0 7 7 1 1 6 8 1 5 0 6 0 7 4 6 3 5 1 2 1 9 2 1 1 0 1 3 4 8 1 7 7 6 3 1 6\n",
      " 6 4 1 7 0 3 7 8 6 2 2 3 5 6 0 8 6 5 1]\n"
     ]
    }
   ],
   "source": [
    "predicciones = model.predict(X_test)\n",
    "pre = []\n",
    "tru = []\n",
    "for i,j in zip(predicciones, Y_test):\n",
    "    pre.append(np.argmax(i))\n",
    "    tru.append(np.argmax(j))\n",
    "\n",
    "#pre = np.array(pre)\n",
    "#tru = np.array(tru)\n",
    "print(np.array(pre))\n",
    "print(np.array(tru))"
   ]
  },
  {
   "cell_type": "code",
   "execution_count": 22,
   "metadata": {},
   "outputs": [
    {
     "name": "stdout",
     "output_type": "stream",
     "text": [
      "[[17  0  0  0  0  0  0  0  0  1]\n",
      " [ 1 24  0  0  0  0  0  0  0  0]\n",
      " [ 0  1 23  1  0  0  0  0  0  0]\n",
      " [ 0  0  1 14  0  0  0  0  0  0]\n",
      " [ 0  0  0  0 16  0  3  0  1  0]\n",
      " [ 0  0  0  0  0 19  0  0  0  0]\n",
      " [ 0  0  2  0  0  0 24  1  0  0]\n",
      " [ 0  0  1  0  3  0  2 13  2  0]\n",
      " [ 0  0  0  0  0  0  1  0 18  1]\n",
      " [ 0  1  0  0  0  0  0  0  0 13]]\n"
     ]
    }
   ],
   "source": [
    "from sklearn.metrics import confusion_matrix\n",
    "cf_mt = confusion_matrix(tru, pre)\n",
    "print (cf_mt)"
   ]
  },
  {
   "cell_type": "code",
   "execution_count": 23,
   "metadata": {},
   "outputs": [
    {
     "name": "stdout",
     "output_type": "stream",
     "text": [
      "<class 'numpy.ndarray'>\n"
     ]
    },
    {
     "data": {
      "image/png": "[encoded data removed]",
      "text/plain": [
       "<Figure size 432x288 with 2 Axes>"
      ]
     },
     "metadata": {
      "needs_background": "light"
     },
     "output_type": "display_data"
    }
   ],
   "source": [
    "import seaborn as sns\n",
    "print (type(cf_mt))\n",
    "\n",
    "ax = sns.heatmap(cf_mt, annot=True, cmap='Blues')\n",
    "\n",
    "ax.set_title('Seaborn Confusion Matrix with labels\\n\\n');\n",
    "ax.set_xlabel('\\nPredicciones')\n",
    "ax.set_ylabel('Valores verdaderos');\n",
    "\n",
    "## Ticket labels - List must be in alphabetical order\n",
    "ax.xaxis.set_ticklabels(['0','1','2','3','4','5','6','7','8','9'])\n",
    "ax.yaxis.set_ticklabels(['0','1','2','3','4','5','6','7','8','9'])\n",
    "\n",
    "## Display the visualization of the Confusion Matrix.\n",
    "plt.show()"
   ]
  }
 ],
 "metadata": {
  "interpreter": {
   "hash": "f37125ed7f73b9c3e7f69768a023a6c2f51bd8edf88b01931853c6f504e10049"
  },
  "kernelspec": {
   "display_name": "Python 3.7.13 ('env_tensorflow')",
   "language": "python",
   "name": "python3"
  },
  "language_info": {
   "codemirror_mode": {
    "name": "ipython",
    "version": 3
   },
   "file_extension": ".py",
   "mimetype": "text/x-python",
   "name": "python",
   "nbconvert_exporter": "python",
   "pygments_lexer": "ipython3",
   "version": "3.7.13"
  }
 },
 "nbformat": 4,
 "nbformat_minor": 2
}
